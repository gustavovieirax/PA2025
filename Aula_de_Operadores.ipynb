{
  "nbformat": 4,
  "nbformat_minor": 0,
  "metadata": {
    "colab": {
      "provenance": [],
      "authorship_tag": "ABX9TyON2l8YuNByyQXIHm/G8dLJ",
      "include_colab_link": true
    },
    "kernelspec": {
      "name": "python3",
      "display_name": "Python 3"
    },
    "language_info": {
      "name": "python"
    }
  },
  "cells": [
    {
      "cell_type": "markdown",
      "metadata": {
        "id": "view-in-github",
        "colab_type": "text"
      },
      "source": [
        "<a href=\"https://colab.research.google.com/github/gustavovieirax/PA2025/blob/main/Aula_de_Operadores.ipynb\" target=\"_parent\"><img src=\"https://colab.research.google.com/assets/colab-badge.svg\" alt=\"Open In Colab\"/></a>"
      ]
    },
    {
      "cell_type": "markdown",
      "source": [
        "Soma\n"
      ],
      "metadata": {
        "id": "XGNNRvUIhEqi"
      }
    },
    {
      "cell_type": "code",
      "source": [
        " 3+5"
      ],
      "metadata": {
        "colab": {
          "base_uri": "https://localhost:8080/"
        },
        "id": "zN6SZd0BhHYB",
        "outputId": "2a3f5b58-fc94-4fa4-e900-f68ec2423724"
      },
      "execution_count": null,
      "outputs": [
        {
          "output_type": "execute_result",
          "data": {
            "text/plain": [
              "8"
            ]
          },
          "metadata": {},
          "execution_count": 5
        }
      ]
    },
    {
      "cell_type": "markdown",
      "source": [
        "Multiplicação"
      ],
      "metadata": {
        "id": "-rS-F5aOhbOJ"
      }
    },
    {
      "cell_type": "code",
      "source": [
        "5*6\n"
      ],
      "metadata": {
        "colab": {
          "base_uri": "https://localhost:8080/"
        },
        "id": "UDUmCHt3hfmm",
        "outputId": "8dc5519d-7123-4495-af7c-67b047460a3d"
      },
      "execution_count": null,
      "outputs": [
        {
          "output_type": "execute_result",
          "data": {
            "text/plain": [
              "30"
            ]
          },
          "metadata": {},
          "execution_count": 14
        }
      ]
    },
    {
      "cell_type": "markdown",
      "source": [
        "  Divisão"
      ],
      "metadata": {
        "id": "38RZJLCph4__"
      }
    },
    {
      "cell_type": "code",
      "source": [
        "4/5\n"
      ],
      "metadata": {
        "colab": {
          "base_uri": "https://localhost:8080/"
        },
        "id": "KLuJVMTch7TO",
        "outputId": "f7c934ad-a509-432b-ceb2-04140ad96538"
      },
      "execution_count": null,
      "outputs": [
        {
          "output_type": "execute_result",
          "data": {
            "text/plain": [
              "0.8"
            ]
          },
          "metadata": {},
          "execution_count": 15
        }
      ]
    },
    {
      "cell_type": "markdown",
      "source": [
        "Igualdade"
      ],
      "metadata": {
        "id": "Z8M8BwUwiAoD"
      }
    },
    {
      "cell_type": "code",
      "source": [
        "a = 4\n",
        "a == 4"
      ],
      "metadata": {
        "colab": {
          "base_uri": "https://localhost:8080/"
        },
        "id": "T0NyNtdAiKR5",
        "outputId": "52f01f31-ba6b-40c1-c72b-26d0fb2ab5ea"
      },
      "execution_count": null,
      "outputs": [
        {
          "output_type": "execute_result",
          "data": {
            "text/plain": [
              "True"
            ]
          },
          "metadata": {},
          "execution_count": 18
        }
      ]
    },
    {
      "cell_type": "markdown",
      "source": [
        "Expoente (Números Elevados)"
      ],
      "metadata": {
        "id": "XHwgZ9skjbNA"
      }
    },
    {
      "cell_type": "code",
      "source": [
        "4**2"
      ],
      "metadata": {
        "colab": {
          "base_uri": "https://localhost:8080/"
        },
        "id": "n-TJvLMvjjPw",
        "outputId": "581b5f6a-1bcb-4241-f3c3-edf97fcd478b"
      },
      "execution_count": 20,
      "outputs": [
        {
          "output_type": "execute_result",
          "data": {
            "text/plain": [
              "16"
            ]
          },
          "metadata": {},
          "execution_count": 20
        }
      ]
    },
    {
      "cell_type": "markdown",
      "source": [
        "Maior, menor, maior ou igual e menor ou igual"
      ],
      "metadata": {
        "id": "1Hb5U9LLkQKL"
      }
    },
    {
      "cell_type": "code",
      "source": [
        "5>2"
      ],
      "metadata": {
        "colab": {
          "base_uri": "https://localhost:8080/"
        },
        "id": "tRKy7xmbknqR",
        "outputId": "5da94207-8d92-4c52-f05a-29c02533c995"
      },
      "execution_count": 22,
      "outputs": [
        {
          "output_type": "execute_result",
          "data": {
            "text/plain": [
              "True"
            ]
          },
          "metadata": {},
          "execution_count": 22
        }
      ]
    },
    {
      "cell_type": "code",
      "source": [
        "5>6"
      ],
      "metadata": {
        "colab": {
          "base_uri": "https://localhost:8080/"
        },
        "id": "mwWa4ob8lhVJ",
        "outputId": "84a9cf99-fc6c-4a7c-b5f6-b6e5ad0a9339"
      },
      "execution_count": 26,
      "outputs": [
        {
          "output_type": "execute_result",
          "data": {
            "text/plain": [
              "False"
            ]
          },
          "metadata": {},
          "execution_count": 26
        }
      ]
    },
    {
      "cell_type": "code",
      "source": [
        "5<6"
      ],
      "metadata": {
        "colab": {
          "base_uri": "https://localhost:8080/"
        },
        "id": "znFNeCtTk3mj",
        "outputId": "6a929591-5c4d-4007-8b53-8c6b1ace1372"
      },
      "execution_count": 24,
      "outputs": [
        {
          "output_type": "execute_result",
          "data": {
            "text/plain": [
              "True"
            ]
          },
          "metadata": {},
          "execution_count": 24
        }
      ]
    },
    {
      "cell_type": "code",
      "source": [
        "5<4"
      ],
      "metadata": {
        "colab": {
          "base_uri": "https://localhost:8080/"
        },
        "id": "p8S8HvuQlV5Y",
        "outputId": "ceea71f6-211f-4e5a-d64a-695b98942b56"
      },
      "execution_count": 25,
      "outputs": [
        {
          "output_type": "execute_result",
          "data": {
            "text/plain": [
              "False"
            ]
          },
          "metadata": {},
          "execution_count": 25
        }
      ]
    },
    {
      "cell_type": "code",
      "source": [
        "5>=5"
      ],
      "metadata": {
        "colab": {
          "base_uri": "https://localhost:8080/"
        },
        "id": "N-5OwL77lsfJ",
        "outputId": "ab65f264-b57e-4974-b171-f18338efdeb5"
      },
      "execution_count": 27,
      "outputs": [
        {
          "output_type": "execute_result",
          "data": {
            "text/plain": [
              "True"
            ]
          },
          "metadata": {},
          "execution_count": 27
        }
      ]
    },
    {
      "cell_type": "code",
      "source": [
        "5-6+7+12-120"
      ],
      "metadata": {
        "colab": {
          "base_uri": "https://localhost:8080/"
        },
        "id": "oHTVdxyDmWSf",
        "outputId": "a4dd9138-8cc9-473b-af92-1e6d9f457b6b"
      },
      "execution_count": 28,
      "outputs": [
        {
          "output_type": "execute_result",
          "data": {
            "text/plain": [
              "-102"
            ]
          },
          "metadata": {},
          "execution_count": 28
        }
      ]
    },
    {
      "cell_type": "markdown",
      "source": [
        "Diferente"
      ],
      "metadata": {
        "id": "hQALH_ZbnaBz"
      }
    },
    {
      "cell_type": "code",
      "source": [
        "a!=4"
      ],
      "metadata": {
        "colab": {
          "base_uri": "https://localhost:8080/"
        },
        "id": "WTD1RKhMncQj",
        "outputId": "db53b2dc-8beb-4274-a563-ee520a824bba"
      },
      "execution_count": 29,
      "outputs": [
        {
          "output_type": "execute_result",
          "data": {
            "text/plain": [
              "False"
            ]
          },
          "metadata": {},
          "execution_count": 29
        }
      ]
    },
    {
      "cell_type": "markdown",
      "source": [
        "Variaveis"
      ],
      "metadata": {
        "id": "kdiX3HBznxLa"
      }
    },
    {
      "cell_type": "code",
      "source": [
        "nome ='Marcio'\n",
        "sobrenome = 'Barros'\n",
        "\n",
        "print ('Meu nome é' + ' ' + nome + ' ' +sobrenome)"
      ],
      "metadata": {
        "colab": {
          "base_uri": "https://localhost:8080/"
        },
        "id": "ispRJ80cny9U",
        "outputId": "03a6feab-506d-4fb8-b3d6-d04b67341ed7"
      },
      "execution_count": 41,
      "outputs": [
        {
          "output_type": "stream",
          "name": "stdout",
          "text": [
            "Meu nome é Marcio Barros\n"
          ]
        }
      ]
    },
    {
      "cell_type": "code",
      "source": [
        "nome= str(input('digite seu nome: '))\n",
        "sobrenome = str(input('digite seu sobrenome: '))\n",
        "\n",
        "print('Meu nome é ' + nome + ' ' + sobrenome)"
      ],
      "metadata": {
        "colab": {
          "base_uri": "https://localhost:8080/"
        },
        "id": "CUdK4IyFp8Qu",
        "outputId": "29e1c764-a73e-4c5a-ec66-2ed121fda725"
      },
      "execution_count": 49,
      "outputs": [
        {
          "output_type": "stream",
          "name": "stdout",
          "text": [
            "digite seu nome: gustavo\n",
            "digite seu sobrenome: vieira\n",
            "Meu nome é gustavo vieira\n"
          ]
        }
      ]
    },
    {
      "cell_type": "code",
      "source": [
        "print (nome)"
      ],
      "metadata": {
        "colab": {
          "base_uri": "https://localhost:8080/"
        },
        "id": "88ahMlXxtMXM",
        "outputId": "26407906-af40-46a9-cd3a-5ea963ff7dbb"
      },
      "execution_count": 51,
      "outputs": [
        {
          "output_type": "stream",
          "name": "stdout",
          "text": [
            "gustavo\n"
          ]
        }
      ]
    },
    {
      "cell_type": "code",
      "source": [
        "#ATIVIDADE SALA DE AULA.\n",
        "\n",
        "\n",
        "#Entrada.\n",
        "lado = int(input(\"Digite o valor do lado do quadrado: \"))\n",
        "\n",
        "#Processamento.\n",
        "area = lado*lado\n",
        "\n",
        "\n",
        "#Saída.\n",
        "print ('A area do quadrado é igual a', area)\n"
      ],
      "metadata": {
        "colab": {
          "base_uri": "https://localhost:8080/"
        },
        "id": "PEozeZZcttrK",
        "outputId": "795e5b89-2dd7-42f6-fab1-a74535c54a36"
      },
      "execution_count": 70,
      "outputs": [
        {
          "output_type": "stream",
          "name": "stdout",
          "text": [
            "Digite o valor do lado do quadrado: 10\n",
            "A area do quadrado é igual a 100\n"
          ]
        }
      ]
    }
  ]
}