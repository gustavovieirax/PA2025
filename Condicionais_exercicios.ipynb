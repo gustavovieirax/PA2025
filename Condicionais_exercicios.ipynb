{
  "nbformat": 4,
  "nbformat_minor": 0,
  "metadata": {
    "colab": {
      "provenance": [],
      "authorship_tag": "ABX9TyOZU0sHoO0vujRRwgDbt5IU",
      "include_colab_link": true
    },
    "kernelspec": {
      "name": "python3",
      "display_name": "Python 3"
    },
    "language_info": {
      "name": "python"
    }
  },
  "cells": [
    {
      "cell_type": "markdown",
      "metadata": {
        "id": "view-in-github",
        "colab_type": "text"
      },
      "source": [
        "<a href=\"https://colab.research.google.com/github/gustavovieirax/PA2025/blob/main/Condicionais_exercicios.ipynb\" target=\"_parent\"><img src=\"https://colab.research.google.com/assets/colab-badge.svg\" alt=\"Open In Colab\"/></a>"
      ]
    },
    {
      "cell_type": "markdown",
      "source": [
        "**IMPAR OU PAR?**"
      ],
      "metadata": {
        "id": "fVcJh7eCRkEj"
      }
    },
    {
      "cell_type": "code",
      "source": [
        "num = int(input('Digite um número '))\n",
        "\n",
        "if num % 2 == 0:\n",
        " print('PAR')\n",
        "\n",
        "else:\n",
        " print('IMPAR')"
      ],
      "metadata": {
        "id": "w9OYqvUCRncS",
        "colab": {
          "base_uri": "https://localhost:8080/"
        },
        "outputId": "fd48a23e-e56a-49d9-b227-a5ed8b84e3bb"
      },
      "execution_count": null,
      "outputs": [
        {
          "output_type": "stream",
          "name": "stdout",
          "text": [
            "Digite um número 18\n",
            "PAR\n"
          ]
        }
      ]
    },
    {
      "cell_type": "markdown",
      "source": [
        "**MÉDIA**"
      ],
      "metadata": {
        "id": "tefiEfgLSOJI"
      }
    },
    {
      "cell_type": "code",
      "source": [
        "n1 = int(input('Digite a primeira nota: '))\n",
        "n2 = int(input('Digite a segunda nota: '))\n",
        "n3 = int(input('Digite a terceira nota '))\n",
        "\n",
        "md = (n1+n2+n3)/3\n",
        "\n",
        "if md < 6 :\n",
        " print('Recuperação... ')\n",
        "\n",
        "else:\n",
        "  print('aprovado... ')\n"
      ],
      "metadata": {
        "id": "QLVFZKo6SRlJ",
        "colab": {
          "base_uri": "https://localhost:8080/"
        },
        "outputId": "3dddb979-7fcc-42a6-eac5-d9a4d4dc81a9"
      },
      "execution_count": null,
      "outputs": [
        {
          "output_type": "stream",
          "name": "stdout",
          "text": [
            "Digite a primeira nota: 5\n",
            "Digite a segunda nota: 8\n",
            "Digite a terceira nota 9\n",
            "aprovado... \n"
          ]
        }
      ]
    },
    {
      "cell_type": "markdown",
      "source": [
        "**MAIORIDADE**"
      ],
      "metadata": {
        "id": "LoLDoL4wTr7B"
      }
    },
    {
      "cell_type": "code",
      "source": [
        "idade = int(input('Digite a sua idade '))\n",
        "\n",
        "if idade < 18:\n",
        " print('Menor de idade')\n",
        "\n",
        "else:\n",
        " print('Maior de idade')"
      ],
      "metadata": {
        "id": "iyhiVmU5Skyp",
        "colab": {
          "base_uri": "https://localhost:8080/"
        },
        "outputId": "e0123b88-fd9b-44cc-a3d4-bfd17a6cd115"
      },
      "execution_count": null,
      "outputs": [
        {
          "output_type": "stream",
          "name": "stdout",
          "text": [
            "Digite a sua idade 8\n",
            "Menor de idade\n"
          ]
        }
      ]
    },
    {
      "cell_type": "markdown",
      "source": [
        "**MULTIPLO DE 5**"
      ],
      "metadata": {
        "id": "UJIWxZbrUH3z"
      }
    },
    {
      "cell_type": "code",
      "source": [
        "num = int(input('Digite um número: '))\n",
        "\n",
        "if num%5 == 0:\n",
        " print('É multiplo')\n",
        "\n",
        "else:\n",
        " print('Não é multiplo ')"
      ],
      "metadata": {
        "colab": {
          "base_uri": "https://localhost:8080/"
        },
        "id": "_vZsmvljUKis",
        "outputId": "54a90dcb-2dd0-4749-9966-37ebf7f86a73"
      },
      "execution_count": null,
      "outputs": [
        {
          "output_type": "stream",
          "name": "stdout",
          "text": [
            "Digite um número: 97\n",
            "Não é multiplo \n"
          ]
        }
      ]
    },
    {
      "cell_type": "markdown",
      "source": [
        "**CALCULO DE IMC**"
      ],
      "metadata": {
        "id": "rCr7iM12U9J4"
      }
    },
    {
      "cell_type": "code",
      "source": [
        "altura = float(input('Digite a sua altura: '))\n",
        "peso = int(input('Digite o seu peso: '))\n",
        "imc = peso + altura\n",
        "\n",
        "if"
      ],
      "metadata": {
        "colab": {
          "base_uri": "https://localhost:8080/"
        },
        "id": "xgBea0TnVDfn",
        "outputId": "dd9376ba-8be1-4bca-a7c1-e60aaed92345"
      },
      "execution_count": null,
      "outputs": [
        {
          "output_type": "stream",
          "name": "stdout",
          "text": [
            "Digite a sua altura: 1.75\n",
            "Digite o seu peso: 70\n",
            "40.0\n"
          ]
        }
      ]
    },
    {
      "cell_type": "markdown",
      "source": [
        "**CALCULADORA**"
      ],
      "metadata": {
        "id": "62fl_BMxW4Ux"
      }
    },
    {
      "cell_type": "code",
      "source": [
        "operacao = str(input('Digite a operação desejada;  Soma, subtração, Mutiplicação e divisão'))\n",
        "\n",
        "p1 = int(input('Digite o primeiro número '))\n",
        "p2 = int(input('Digite o segundo número '))\n",
        "p3 = int(input('Digite o terceiro número '))\n",
        "\n",
        "soma = p1+p2+p3\n",
        "subtracao = p1-p2-p3\n",
        "multiplicacao = p1*p2*p3\n",
        "divisao = p1/p2/p3\n",
        "\n",
        "print(f'Resultou em: Soma {soma}, Subtração {subtracao}, Multiplicação {multiplicacao}, Divisão {divisao}')"
      ],
      "metadata": {
        "id": "F4GlZXNDW6Qx",
        "colab": {
          "base_uri": "https://localhost:8080/"
        },
        "outputId": "0cc896fe-6a61-4168-81bb-5772d1bbcc3b"
      },
      "execution_count": 1,
      "outputs": [
        {
          "output_type": "stream",
          "name": "stdout",
          "text": [
            "Digite a operação desejada;  Soma, subtração, Mutiplicação e divisãosoma\n",
            "Digite o primeiro número 9\n",
            "Digite o segundo número 9\n",
            "Digite o terceiro número 1\n",
            "Resultou em: Soma 19, Subtração -1, Multiplicação 81, Divisão 1.0\n"
          ]
        }
      ]
    },
    {
      "cell_type": "markdown",
      "source": [
        "**NUMERO POSITIVO, NEGATIVO OU ZERO**"
      ],
      "metadata": {
        "id": "WR407m_VA3nL"
      }
    },
    {
      "cell_type": "code",
      "source": [
        "numero = float(input(\"Digite um número: \"))\n",
        "\n",
        "if numero > 0:\n",
        "    print(\"O número é positivo.\")\n",
        "elif numero < 0:\n",
        "    print(\"O número é negativo.\")\n",
        "else:\n",
        "    print(\"O número é zero.\")"
      ],
      "metadata": {
        "colab": {
          "base_uri": "https://localhost:8080/"
        },
        "id": "jRJnlK_ZA8Gq",
        "outputId": "5e102825-6cba-4095-c502-ac85ebfb8685"
      },
      "execution_count": 16,
      "outputs": [
        {
          "output_type": "stream",
          "name": "stdout",
          "text": [
            "Digite um número: 0\n",
            "O número é zero.\n"
          ]
        }
      ]
    },
    {
      "cell_type": "markdown",
      "source": [],
      "metadata": {
        "id": "saoXYE7SCDXi"
      }
    },
    {
      "cell_type": "code",
      "source": [],
      "metadata": {
        "id": "IVAqbyXiBeKq"
      },
      "execution_count": null,
      "outputs": []
    }
  ]
}