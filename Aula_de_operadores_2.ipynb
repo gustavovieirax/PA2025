{
  "nbformat": 4,
  "nbformat_minor": 0,
  "metadata": {
    "colab": {
      "provenance": [],
      "authorship_tag": "ABX9TyO8rXOlsxxzd+kEM7yLECDg",
      "include_colab_link": true
    },
    "kernelspec": {
      "name": "python3",
      "display_name": "Python 3"
    },
    "language_info": {
      "name": "python"
    }
  },
  "cells": [
    {
      "cell_type": "markdown",
      "metadata": {
        "id": "view-in-github",
        "colab_type": "text"
      },
      "source": [
        "<a href=\"https://colab.research.google.com/github/gustavovieirax/PA2025/blob/main/Aula_de_operadores_2.ipynb\" target=\"_parent\"><img src=\"https://colab.research.google.com/assets/colab-badge.svg\" alt=\"Open In Colab\"/></a>"
      ]
    },
    {
      "cell_type": "markdown",
      "source": [
        "CALCULANDO A MÉDIA"
      ],
      "metadata": {
        "id": "J7V7JmgJfdWn"
      }
    },
    {
      "cell_type": "code",
      "execution_count": null,
      "metadata": {
        "id": "8-x2fO-rduEz",
        "colab": {
          "base_uri": "https://localhost:8080/"
        },
        "collapsed": true,
        "outputId": "de0c5b36-6b2c-4276-dc7e-1f00bc806f8e"
      },
      "outputs": [
        {
          "output_type": "stream",
          "name": "stdout",
          "text": [
            "Digite a primeira nota: 10\n",
            "Digite a segunda nota: 10\n",
            "A media é: 10.0\n"
          ]
        }
      ],
      "source": [
        "#Entrada\n",
        "\n",
        "nota1 = float(input('Digite a primeira nota: '))\n",
        "nota2 = float(input('Digite a segunda nota: '))\n",
        "\n",
        "#Processamento\n",
        "\n",
        "media = (nota1 + nota2) / 2\n",
        "\n",
        "#Saída\n",
        "\n",
        "print('A media é:', media)\n"
      ]
    },
    {
      "cell_type": "markdown",
      "source": [
        "CÁLCULO DO VALOR TOTAL DE UMA PEÇA - EXERCÍCIO 1"
      ],
      "metadata": {
        "id": "_G3VrKWbm2Ps"
      }
    },
    {
      "cell_type": "code",
      "source": [
        "#ENTRADA\n",
        "\n",
        "V = float(input('Digite o valor das peças '))\n",
        "\n",
        "\n",
        "Q = float(input('Digite a quantidade de peças '))\n",
        "\n",
        "VT = V * Q\n",
        "\n",
        "print ('O valor total é', VT)"
      ],
      "metadata": {
        "colab": {
          "base_uri": "https://localhost:8080/"
        },
        "id": "5nFzwK1Am8WG",
        "outputId": "b49fe122-f732-4d64-91a6-e5a6b1dbc63f"
      },
      "execution_count": null,
      "outputs": [
        {
          "output_type": "stream",
          "name": "stdout",
          "text": [
            "Digite o valor das peças 10\n",
            "Digite a quantidade de peças 9\n",
            "O valor total é 90.0\n"
          ]
        }
      ]
    },
    {
      "cell_type": "code",
      "source": [
        "#ENTRADA\n",
        "N = float(input('Digite o valor do número '))\n",
        "VT = N*3\n",
        "\n",
        "#SAÍDA\n",
        "print('O triplo é', VT)\n"
      ],
      "metadata": {
        "colab": {
          "base_uri": "https://localhost:8080/"
        },
        "id": "xm5WaRJrqfqa",
        "outputId": "fb9d5d78-4b4c-4ab9-d500-d5c2433b59c8"
      },
      "execution_count": null,
      "outputs": [
        {
          "output_type": "stream",
          "name": "stdout",
          "text": [
            "Digite o valor do número 10\n",
            "O triplo é 30.0\n"
          ]
        }
      ]
    },
    {
      "cell_type": "markdown",
      "source": [
        "CONVERTENDO CELCIUS PARA TEMPERATURA FAHRENHEIT"
      ],
      "metadata": {
        "id": "XyN6vWcAvw1R"
      }
    },
    {
      "cell_type": "code",
      "source": [
        "#ENTRADA\n",
        "\n",
        "C = float(input('Digite a temperatura em celcius '))\n",
        "\n",
        "#PROCESSAMENTO\n",
        "F = C * 1.8 + 32\n",
        "\n",
        "#SAÍDA\n",
        "print ('A temperatura em fahrenheit é', F)"
      ],
      "metadata": {
        "colab": {
          "base_uri": "https://localhost:8080/"
        },
        "id": "nHUJKNh3tuFm",
        "outputId": "5eccd6fe-581f-40d2-8e5c-3cad9c617cbf"
      },
      "execution_count": 134,
      "outputs": [
        {
          "output_type": "stream",
          "name": "stdout",
          "text": [
            "Digite a temperatura em celcius 10\n",
            "A temperatura em fahrenheit é 50.0\n"
          ]
        }
      ]
    },
    {
      "cell_type": "markdown",
      "source": [
        "CONVERTENDO KM EM MILHAS"
      ],
      "metadata": {
        "id": "zdY3epkFzD6h"
      }
    },
    {
      "cell_type": "code",
      "source": [
        "#ENTRADA\n",
        "\n",
        "K = float(input('Distância em kilometros '))\n",
        "\n",
        "M = K * 0.6214\n",
        "\n",
        "print('O valor em milhas é:', M)"
      ],
      "metadata": {
        "colab": {
          "base_uri": "https://localhost:8080/"
        },
        "id": "5IN08IZJzLUF",
        "outputId": "d52e08c5-23cb-4fea-9b71-ae7d7452f548"
      },
      "execution_count": 186,
      "outputs": [
        {
          "output_type": "stream",
          "name": "stdout",
          "text": [
            "Distância em kilometros 10\n",
            "O valor em milhas é: 6.2139999999999995\n"
          ]
        }
      ]
    }
  ]
}